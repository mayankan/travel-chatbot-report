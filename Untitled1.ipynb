{
 "cells": [
  {
   "cell_type": "code",
   "execution_count": 56,
   "metadata": {},
   "outputs": [],
   "source": [
    "import json\n",
    "import pandas as pd \n",
    "from pandas.io.json import json_normalize"
   ]
  },
  {
   "cell_type": "code",
   "execution_count": 77,
   "metadata": {},
   "outputs": [
    {
     "data": {
      "text/plain": [
       "Index(['user_id', 'turns', 'wizard_id', 'id', 'labels'], dtype='object')"
      ]
     },
     "execution_count": 77,
     "metadata": {},
     "output_type": "execute_result"
    }
   ],
   "source": [
    "data = pd.read_json('frames.json') \n",
    "data.keys()"
   ]
  },
  {
   "cell_type": "code",
   "execution_count": 58,
   "metadata": {},
   "outputs": [],
   "source": [
    "with open('frames.json') as df:\n",
    "    data=json.loads(df.read())"
   ]
  },
  {
   "cell_type": "code",
   "execution_count": 59,
   "metadata": {},
   "outputs": [],
   "source": [
    "df = json_normalize(data)"
   ]
  },
  {
   "cell_type": "code",
   "execution_count": 72,
   "metadata": {},
   "outputs": [
    {
     "data": {
      "text/html": [
       "<div>\n",
       "<style scoped>\n",
       "    .dataframe tbody tr th:only-of-type {\n",
       "        vertical-align: middle;\n",
       "    }\n",
       "\n",
       "    .dataframe tbody tr th {\n",
       "        vertical-align: top;\n",
       "    }\n",
       "\n",
       "    .dataframe thead th {\n",
       "        text-align: right;\n",
       "    }\n",
       "</style>\n",
       "<table border=\"1\" class=\"dataframe\">\n",
       "  <thead>\n",
       "    <tr style=\"text-align: right;\">\n",
       "      <th></th>\n",
       "      <th>user_id</th>\n",
       "      <th>turns</th>\n",
       "      <th>wizard_id</th>\n",
       "      <th>id</th>\n",
       "      <th>labels</th>\n",
       "    </tr>\n",
       "  </thead>\n",
       "  <tbody>\n",
       "    <tr>\n",
       "      <th>0</th>\n",
       "      <td>U22HTHYNP</td>\n",
       "      <td>[{'text': 'I'd like to book a trip to Atlantis...</td>\n",
       "      <td>U21DKG18C</td>\n",
       "      <td>e2c0fc6c-2134-4891-8353-ef16d8412c9a</td>\n",
       "      <td>{'userSurveyRating': 4.0, 'wizardSurveyTaskSuc...</td>\n",
       "    </tr>\n",
       "    <tr>\n",
       "      <th>1</th>\n",
       "      <td>U21E41CQP</td>\n",
       "      <td>[{'text': 'Hello, I am looking to book a vacat...</td>\n",
       "      <td>U21DMV0KA</td>\n",
       "      <td>4a3bfa39-2c22-42c8-8694-32b4e34415e9</td>\n",
       "      <td>{'userSurveyRating': 3.0, 'wizardSurveyTaskSuc...</td>\n",
       "    </tr>\n",
       "    <tr>\n",
       "      <th>2</th>\n",
       "      <td>U21RP4FCY</td>\n",
       "      <td>[{'text': 'Hello there i am looking to go on a...</td>\n",
       "      <td>U21E0179B</td>\n",
       "      <td>6e67ed28-e94c-4fab-96b6-68569a92682f</td>\n",
       "      <td>{'userSurveyRating': 2.0, 'wizardSurveyTaskSuc...</td>\n",
       "    </tr>\n",
       "    <tr>\n",
       "      <th>3</th>\n",
       "      <td>U22HTHYNP</td>\n",
       "      <td>[{'text': 'Hi I'd like to go to Caprica from B...</td>\n",
       "      <td>U21DKG18C</td>\n",
       "      <td>5ae76e50-5b48-4166-9f6d-67aaabd7bcaa</td>\n",
       "      <td>{'userSurveyRating': 5.0, 'wizardSurveyTaskSuc...</td>\n",
       "    </tr>\n",
       "    <tr>\n",
       "      <th>4</th>\n",
       "      <td>U21E41CQP</td>\n",
       "      <td>[{'text': 'Hello, I am looking to book a trip ...</td>\n",
       "      <td>U21DMV0KA</td>\n",
       "      <td>24603086-bb53-431e-a0d8-1dcc63518ba9</td>\n",
       "      <td>{'userSurveyRating': 5.0, 'wizardSurveyTaskSuc...</td>\n",
       "    </tr>\n",
       "    <tr>\n",
       "      <th>...</th>\n",
       "      <td>...</td>\n",
       "      <td>...</td>\n",
       "      <td>...</td>\n",
       "      <td>...</td>\n",
       "      <td>...</td>\n",
       "    </tr>\n",
       "    <tr>\n",
       "      <th>1364</th>\n",
       "      <td>U2AMZ8TLK</td>\n",
       "      <td>[{'text': 'Hi I've got 9 days free and I'm loo...</td>\n",
       "      <td>U21DMV0KA</td>\n",
       "      <td>957fd205-bb7c-4b81-8cb6-13c81c51c5c9</td>\n",
       "      <td>{'userSurveyRating': 3.5, 'wizardSurveyTaskSuc...</td>\n",
       "    </tr>\n",
       "    <tr>\n",
       "      <th>1365</th>\n",
       "      <td>U2AMZ8TLK</td>\n",
       "      <td>[{'text': 'I need to get to Fortaleza on Septe...</td>\n",
       "      <td>U260BGVS6</td>\n",
       "      <td>71b21b86-2d05-4372-a0ee-6ed64b0ddc42</td>\n",
       "      <td>{'userSurveyRating': 4.5, 'wizardSurveyTaskSuc...</td>\n",
       "    </tr>\n",
       "    <tr>\n",
       "      <th>1366</th>\n",
       "      <td>U231PNNA3</td>\n",
       "      <td>[{'text': 'We're finally going on vacation isn...</td>\n",
       "      <td>U21T9NMKM</td>\n",
       "      <td>ef2cd70e-c1f2-42be-8839-cb465af0bf41</td>\n",
       "      <td>{'userSurveyRating': 5.0, 'wizardSurveyTaskSuc...</td>\n",
       "    </tr>\n",
       "    <tr>\n",
       "      <th>1367</th>\n",
       "      <td>U2AMZ8TLK</td>\n",
       "      <td>[{'text': 'Hi there, I'm looking for a place t...</td>\n",
       "      <td>U21DMV0KA</td>\n",
       "      <td>ffa79d2c-14eb-45e6-8573-b0817a1a1803</td>\n",
       "      <td>{'userSurveyRating': 4.0, 'wizardSurveyTaskSuc...</td>\n",
       "    </tr>\n",
       "    <tr>\n",
       "      <th>1368</th>\n",
       "      <td>U2AMZ8TLK</td>\n",
       "      <td>[{'text': 'I need to book a trip for the whole...</td>\n",
       "      <td>U260BGVS6</td>\n",
       "      <td>0d364be2-9f43-4f5a-8506-1af4523515ba</td>\n",
       "      <td>{'userSurveyRating': 5.0, 'wizardSurveyTaskSuc...</td>\n",
       "    </tr>\n",
       "  </tbody>\n",
       "</table>\n",
       "<p>1369 rows × 5 columns</p>\n",
       "</div>"
      ],
      "text/plain": [
       "        user_id                                              turns  wizard_id  \\\n",
       "0     U22HTHYNP  [{'text': 'I'd like to book a trip to Atlantis...  U21DKG18C   \n",
       "1     U21E41CQP  [{'text': 'Hello, I am looking to book a vacat...  U21DMV0KA   \n",
       "2     U21RP4FCY  [{'text': 'Hello there i am looking to go on a...  U21E0179B   \n",
       "3     U22HTHYNP  [{'text': 'Hi I'd like to go to Caprica from B...  U21DKG18C   \n",
       "4     U21E41CQP  [{'text': 'Hello, I am looking to book a trip ...  U21DMV0KA   \n",
       "...         ...                                                ...        ...   \n",
       "1364  U2AMZ8TLK  [{'text': 'Hi I've got 9 days free and I'm loo...  U21DMV0KA   \n",
       "1365  U2AMZ8TLK  [{'text': 'I need to get to Fortaleza on Septe...  U260BGVS6   \n",
       "1366  U231PNNA3  [{'text': 'We're finally going on vacation isn...  U21T9NMKM   \n",
       "1367  U2AMZ8TLK  [{'text': 'Hi there, I'm looking for a place t...  U21DMV0KA   \n",
       "1368  U2AMZ8TLK  [{'text': 'I need to book a trip for the whole...  U260BGVS6   \n",
       "\n",
       "                                        id  \\\n",
       "0     e2c0fc6c-2134-4891-8353-ef16d8412c9a   \n",
       "1     4a3bfa39-2c22-42c8-8694-32b4e34415e9   \n",
       "2     6e67ed28-e94c-4fab-96b6-68569a92682f   \n",
       "3     5ae76e50-5b48-4166-9f6d-67aaabd7bcaa   \n",
       "4     24603086-bb53-431e-a0d8-1dcc63518ba9   \n",
       "...                                    ...   \n",
       "1364  957fd205-bb7c-4b81-8cb6-13c81c51c5c9   \n",
       "1365  71b21b86-2d05-4372-a0ee-6ed64b0ddc42   \n",
       "1366  ef2cd70e-c1f2-42be-8839-cb465af0bf41   \n",
       "1367  ffa79d2c-14eb-45e6-8573-b0817a1a1803   \n",
       "1368  0d364be2-9f43-4f5a-8506-1af4523515ba   \n",
       "\n",
       "                                                 labels  \n",
       "0     {'userSurveyRating': 4.0, 'wizardSurveyTaskSuc...  \n",
       "1     {'userSurveyRating': 3.0, 'wizardSurveyTaskSuc...  \n",
       "2     {'userSurveyRating': 2.0, 'wizardSurveyTaskSuc...  \n",
       "3     {'userSurveyRating': 5.0, 'wizardSurveyTaskSuc...  \n",
       "4     {'userSurveyRating': 5.0, 'wizardSurveyTaskSuc...  \n",
       "...                                                 ...  \n",
       "1364  {'userSurveyRating': 3.5, 'wizardSurveyTaskSuc...  \n",
       "1365  {'userSurveyRating': 4.5, 'wizardSurveyTaskSuc...  \n",
       "1366  {'userSurveyRating': 5.0, 'wizardSurveyTaskSuc...  \n",
       "1367  {'userSurveyRating': 4.0, 'wizardSurveyTaskSuc...  \n",
       "1368  {'userSurveyRating': 5.0, 'wizardSurveyTaskSuc...  \n",
       "\n",
       "[1369 rows x 5 columns]"
      ]
     },
     "execution_count": 72,
     "metadata": {},
     "output_type": "execute_result"
    }
   ],
   "source": [
    "data"
   ]
  },
  {
   "cell_type": "code",
   "execution_count": 75,
   "metadata": {},
   "outputs": [
    {
     "name": "stderr",
     "output_type": "stream",
     "text": [
      "IOPub data rate exceeded.\n",
      "The notebook server will temporarily stop sending output\n",
      "to the client in order to avoid crashing it.\n",
      "To change this limit, set the config variable\n",
      "`--NotebookApp.iopub_data_rate_limit`.\n",
      "\n",
      "Current values:\n",
      "NotebookApp.iopub_data_rate_limit=1000000.0 (bytes/sec)\n",
      "NotebookApp.rate_limit_window=3.0 (secs)\n",
      "\n"
     ]
    }
   ],
   "source": [
    "print(data.to_json(orient ='index')) "
   ]
  },
  {
   "cell_type": "code",
   "execution_count": null,
   "metadata": {},
   "outputs": [],
   "source": []
  }
 ],
 "metadata": {
  "kernelspec": {
   "display_name": "Python 3",
   "language": "python",
   "name": "python3"
  },
  "language_info": {
   "codemirror_mode": {
    "name": "ipython",
    "version": 3
   },
   "file_extension": ".py",
   "mimetype": "text/x-python",
   "name": "python",
   "nbconvert_exporter": "python",
   "pygments_lexer": "ipython3",
   "version": "3.7.3"
  }
 },
 "nbformat": 4,
 "nbformat_minor": 2
}
